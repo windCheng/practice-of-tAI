{
 "cells": [
  {
   "cell_type": "code",
   "execution_count": 1,
   "metadata": {},
   "outputs": [],
   "source": [
    "import pandas as pd\n",
    "import re\n",
    "import warnings\n",
    "warnings.filterwarnings(\"ignore\")"
   ]
  },
  {
   "cell_type": "code",
   "execution_count": 2,
   "metadata": {},
   "outputs": [],
   "source": [
    "# 读入数据\n",
    "TrainData = pd.read_csv('data/Train_Data.csv')\n",
    "TestData = pd.read_csv('data/Test_Data.csv')\n",
    "TrainData = TrainData[['id','text','entity','negative','key_entity']]\n",
    "TestData = TestData[['id','text','entity']]"
   ]
  },
  {
   "cell_type": "code",
   "execution_count": 3,
   "metadata": {},
   "outputs": [],
   "source": [
    "import jieba\n",
    "# 去除特殊符号\n",
    "import re\n",
    "# 分句子和分实体\n",
    "pattern_sen = r';|\\?|!|。|；|！|…'\n",
    "pattern_semi = r';|；'\n",
    "def CutContent(content,pattern):\n",
    "    content = re.split(pattern, str(content))\n",
    "    return content\n",
    "# 清洗数据函数\n",
    "def RemovePunctuation(content):\n",
    "    punctuation = '#,??,???,;;,!!,。。, '\n",
    "    content = re.sub(r'[{}]+'.format(punctuation),'',str(content))\n",
    "    return content.strip('?').lower()\n"
   ]
  },
  {
   "cell_type": "code",
   "execution_count": 4,
   "metadata": {},
   "outputs": [],
   "source": [
    "#补充缺失值\n",
    "TrainData=TrainData.fillna('无')\n",
    "TestData=TestData.fillna('无')\n",
    "#将句子的无关符号清洗\n",
    "TrainData['text'] = TrainData['text'].apply(lambda x:RemovePunctuation(x))\n",
    "TestData['text'] = TestData['text'].apply(lambda x:RemovePunctuation(x))"
   ]
  },
  {
   "cell_type": "code",
   "execution_count": 5,
   "metadata": {},
   "outputs": [],
   "source": [
    "#训练集的实体变成列表\n",
    "TrainData['entity'] = TrainData['entity'].map(lambda x :CutContent(x,pattern_semi))"
   ]
  },
  {
   "cell_type": "code",
   "execution_count": 6,
   "metadata": {},
   "outputs": [],
   "source": [
    "#测试机的实体变成列表\n",
    "TestData['entity'] = TestData['entity'].map(lambda x :CutContent(x,pattern_semi))"
   ]
  },
  {
   "cell_type": "code",
   "execution_count": 7,
   "metadata": {},
   "outputs": [
    {
     "data": {
      "text/plain": [
       "'小资钱包'"
      ]
     },
     "execution_count": 7,
     "metadata": {},
     "output_type": "execute_result"
    }
   ],
   "source": [
    "TrainData['entity'][1][0]"
   ]
  },
  {
   "cell_type": "code",
   "execution_count": 8,
   "metadata": {},
   "outputs": [],
   "source": [
    "# 将训练集数据按照实体排序\n",
    "TrainMiddle = TrainData[['id','text','entity','negative','key_entity']]\n",
    "k=0\n",
    "for i in range(len(TrainData)):\n",
    "    for j in range(len(TrainData['entity'][i])):\n",
    "        TrainMiddle.loc[k,'id']=TrainData['id'][i]\n",
    "        TrainMiddle.loc[k,'text']=TrainData['text'][i]\n",
    "        TrainMiddle.loc[k,'entity']=TrainData['entity'][i][j]\n",
    "        TrainMiddle.loc[k,'negative']=TrainData['negative'][i]\n",
    "        TrainMiddle.loc[k,'key_entity']=TrainData['key_entity'][i]\n",
    "        k=k+1"
   ]
  },
  {
   "cell_type": "code",
   "execution_count": 9,
   "metadata": {},
   "outputs": [],
   "source": [
    "# 将测试集数据按照实体排序\n",
    "TestMiddle = TestData[['id','text','entity']]\n",
    "k=0\n",
    "for i in range(len(TestData)):\n",
    "    for j in range(len(TestData['entity'][i])):\n",
    "        TestMiddle.loc[k,'id']=TestData['id'][i]\n",
    "        TestMiddle.loc[k,'text']=TestData['text'][i]\n",
    "        TestMiddle.loc[k,'entity']=TestData['entity'][i][j]\n",
    "        k=k+1"
   ]
  },
  {
   "cell_type": "code",
   "execution_count": 10,
   "metadata": {},
   "outputs": [],
   "source": [
    "# entity<==>key_entity  判断该实体是不是消极实体\n",
    "def IsNegative(keyname,name):\n",
    "    if keyname.find(name) != -1:\n",
    "        return '1'\n",
    "    else :\n",
    "        return '0'\n"
   ]
  },
  {
   "cell_type": "code",
   "execution_count": 11,
   "metadata": {},
   "outputs": [],
   "source": [
    "# entity<==>text 寻找自己所属的句子\n",
    "def isContent(content,entity):\n",
    "    if content.find(entity) != -1:\n",
    "        return str(content)\n",
    "    else :\n",
    "        return '无'"
   ]
  },
  {
   "cell_type": "code",
   "execution_count": 12,
   "metadata": {},
   "outputs": [],
   "source": [
    "# 判断训练集entity<==>key_entity\n",
    "for i in range(len(TrainMiddle)):\n",
    "    TrainMiddle.loc[i,'negative_self'] = IsNegative(TrainMiddle['key_entity'][i],TrainMiddle['entity'][i])"
   ]
  },
  {
   "cell_type": "code",
   "execution_count": 13,
   "metadata": {},
   "outputs": [],
   "source": [
    "#训练集和测试集文章按照句子切割\n",
    "TrainMiddle['text'] =  TrainMiddle['text'].map(lambda x :CutContent(x,pattern_sen))\n",
    "TestMiddle['text'] =  TestMiddle['text'].map(lambda x :CutContent(x,pattern_sen))"
   ]
  },
  {
   "cell_type": "code",
   "execution_count": 14,
   "metadata": {},
   "outputs": [],
   "source": [
    "# 将训练集entity <==> text,每个实体找所属的句子\n",
    "for i in range(len(TrainMiddle)):\n",
    "    x=''\n",
    "    for j in range(len(TrainMiddle['text'][i])):\n",
    "        x=x+isContent(TrainMiddle['text'][i][j],TrainMiddle['entity'][i])\n",
    "    TrainMiddle.loc[i,'text_self']=x"
   ]
  },
  {
   "cell_type": "code",
   "execution_count": 15,
   "metadata": {},
   "outputs": [],
   "source": [
    "# 将测试集entity <==> text,每个实体找所属的句子\n",
    "for i in range(len(TestMiddle)):\n",
    "    x=''\n",
    "    for j in range(len(TestMiddle['text'][i])):\n",
    "        x=x+isContent(TestMiddle['text'][i][j],TestMiddle['entity'][i])\n",
    "    TestMiddle.loc[i,'text_self']=x"
   ]
  },
  {
   "cell_type": "code",
   "execution_count": 16,
   "metadata": {},
   "outputs": [],
   "source": [
    "# 去除特殊符号\n",
    "import re\n",
    "def ClearSeq(article):\n",
    "    article = re.sub(r\"[0-9\\s+\\.\\!\\/_,$%^*()?;；:-【】+\\\"\\']+|[+——！，;:。？、~@#￥%……&*（）]+\", \" \",article) #去标点符号\n",
    "    article = article.replace(' ','')  #去前后的空格\n",
    "    return article"
   ]
  },
  {
   "cell_type": "code",
   "execution_count": 17,
   "metadata": {},
   "outputs": [
    {
     "name": "stderr",
     "output_type": "stream",
     "text": [
      "Building prefix dict from the default dictionary ...\n",
      "Loading model from cache C:\\Users\\cheng\\AppData\\Local\\Temp\\jieba.cache\n",
      "Loading model cost 0.590 seconds.\n",
      "Prefix dict has been built succesfully.\n"
     ]
    }
   ],
   "source": [
    "#训练集清除所有符号，结巴分词\n",
    "TrainMiddle['text_self'] = TrainMiddle['text_self'].apply(lambda x:ClearSeq(x))\n",
    "TrainMiddle['words'] = TrainMiddle['text_self'].apply(lambda x:list(jieba.cut(x)))"
   ]
  },
  {
   "cell_type": "code",
   "execution_count": 18,
   "metadata": {},
   "outputs": [],
   "source": [
    "#测试集清除所有符号，结巴分词\n",
    "TestMiddle['text_self'] = TestMiddle['text_self'].apply(lambda x:ClearSeq(x))\n",
    "TestMiddle['words'] = TestMiddle['text_self'].apply(lambda x:list(jieba.cut(x)))"
   ]
  },
  {
   "cell_type": "code",
   "execution_count": 19,
   "metadata": {},
   "outputs": [],
   "source": [
    "all_words = []\n",
    "    #追加多个词\n",
    "for w in TrainMiddle['words']:\n",
    "    all_words.extend(w)\n",
    "for w in TestMiddle['words']:\n",
    "    all_words.extend(w)"
   ]
  },
  {
   "cell_type": "code",
   "execution_count": 20,
   "metadata": {},
   "outputs": [],
   "source": [
    " # 构造词典\n",
    "word_dict = pd.DataFrame(pd.Series(all_words).value_counts())\n",
    "word_dict['id'] = list(range(1,len(word_dict)+1))\n"
   ]
  },
  {
   "cell_type": "code",
   "execution_count": null,
   "metadata": {},
   "outputs": [],
   "source": [
    "TrainMiddle['words'].mean()\n",
    "# TestMiddle['words']"
   ]
  },
  {
   "cell_type": "code",
   "execution_count": 21,
   "metadata": {},
   "outputs": [
    {
     "name": "stderr",
     "output_type": "stream",
     "text": [
      "Using TensorFlow backend.\n"
     ]
    }
   ],
   "source": [
    "from keras.preprocessing import sequence\n",
    "# 将训练集文本映射为数字\n",
    "TrainMiddle['w2v'] = TrainMiddle['words'].apply(lambda x:list(word_dict['id'][x]))\n",
    "    #压缩为50维v\n",
    "TrainMiddle['w2v'] = list(sequence.pad_sequences(TrainMiddle['w2v'],maxlen=50))"
   ]
  },
  {
   "cell_type": "code",
   "execution_count": 26,
   "metadata": {},
   "outputs": [],
   "source": [
    "# 将测试集文本映射为数字\n",
    "TestMiddle['w2v'] = TestMiddle['words'].apply(lambda x:list(word_dict['id'][x]))\n",
    "    #压缩为50维v\n",
    "TestMiddle['w2v'] = list(sequence.pad_sequences(TestMiddle['w2v'],maxlen=50))"
   ]
  },
  {
   "cell_type": "code",
   "execution_count": 27,
   "metadata": {},
   "outputs": [],
   "source": [
    "# 训练和测试数据\n",
    "import numpy as np\n",
    "x_train = np.array(list(TrainMiddle['w2v']))[::2]\n",
    "y_train = np.array(list(TrainMiddle['negative_self']))[::2]\n",
    "x_test = np.array(list(TrainMiddle['w2v']))[1::2]\n",
    "y_test = np.array(list(TrainMiddle['negative_self']))[1::2]"
   ]
  },
  {
   "cell_type": "code",
   "execution_count": 52,
   "metadata": {},
   "outputs": [],
   "source": [
    "x_test = np.array(list(TestMiddle['w2v']))"
   ]
  },
  {
   "cell_type": "code",
   "execution_count": 64,
   "metadata": {},
   "outputs": [],
   "source": [
    "x_train = np.array(list(TrainMiddle['w2v']))\n",
    "y_train = np.array(list(TrainMiddle['negative_self']))"
   ]
  },
  {
   "cell_type": "code",
   "execution_count": 77,
   "metadata": {},
   "outputs": [
    {
     "name": "stdout",
     "output_type": "stream",
     "text": [
      "Model: \"sequential_15\"\n",
      "_________________________________________________________________\n",
      "Layer (type)                 Output Shape              Param #   \n",
      "=================================================================\n",
      "embedding_4 (Embedding)      (None, None, 512)         18111488  \n",
      "_________________________________________________________________\n",
      "bidirectional_2 (Bidirection (None, 512)               1182720   \n",
      "_________________________________________________________________\n",
      "dense_40 (Dense)             (None, 1)                 513       \n",
      "_________________________________________________________________\n",
      "activation_3 (Activation)    (None, 1)                 0         \n",
      "=================================================================\n",
      "Total params: 19,294,721\n",
      "Trainable params: 19,294,721\n",
      "Non-trainable params: 0\n",
      "_________________________________________________________________\n"
     ]
    }
   ],
   "source": [
    "# LSTM模型构建\n",
    "from tensorflow.keras.models import Model,Sequential\n",
    "from tensorflow.keras.layers import LSTM, Input, Dense, TimeDistributed, Activation, RepeatVector, Bidirectional,GRU\n",
    "from tensorflow.keras.layers import Embedding\n",
    "from tensorflow.keras.optimizers import Adam\n",
    "from tensorflow.keras.losses import sparse_categorical_crossentropy\n",
    "\n",
    "model = Sequential()\n",
    "model.add(Embedding(len(word_dict)+1,512))\n",
    "# model.add(GRU(256))\n",
    "model.add(Bidirectional(GRU(256, return_sequences = False)))\n",
    "model.add(Dropout(0.5))\n",
    "model.add(Dense(1))\n",
    "model.add(Activation('sigmoid'))\n",
    "# model.compile(loss='binary_crossentropy',optimizer='adam',metrics=['accuracy'])\n",
    "model.compile(loss='binary_crossentropy', optimizer = Adam(1e-3),metrics=['accuracy'])\n",
    "model.summary()"
   ]
  },
  {
   "cell_type": "code",
   "execution_count": 65,
   "metadata": {},
   "outputs": [],
   "source": [
    "y_train=y_train.astype(np.int32)\n",
    "y_test=y_test.astype(np.int32)"
   ]
  },
  {
   "cell_type": "code",
   "execution_count": 31,
   "metadata": {},
   "outputs": [
    {
     "data": {
      "text/plain": [
       "numpy.ndarray"
      ]
     },
     "execution_count": 31,
     "metadata": {},
     "output_type": "execute_result"
    }
   ],
   "source": [
    "type(np.array(list(TrainMiddle['w2v'])))"
   ]
  },
  {
   "cell_type": "code",
   "execution_count": 60,
   "metadata": {},
   "outputs": [],
   "source": [
    "#使用gpu\n",
    "import keras.backend.tensorflow_backend as KTF\n",
    "from tensorflow.compat.v1 import ConfigProto\n",
    "import tensorflow as tf\n",
    "import os\n",
    "os.environ[\"CUDA_VISIBLE_DEVICES\"] = \"1\"\n",
    "config = ConfigProto()\n",
    "config.gpu_options.allow_growth=True   #不全部占满显存, 按需分配\n",
    "sess = tf.compat.v1.Session(config=config)\n",
    "KTF.set_session(sess)"
   ]
  },
  {
   "cell_type": "code",
   "execution_count": 32,
   "metadata": {},
   "outputs": [
    {
     "data": {
      "text/plain": [
       "array([0, 1, 0, ..., 1, 1, 1])"
      ]
     },
     "execution_count": 32,
     "metadata": {},
     "output_type": "execute_result"
    }
   ],
   "source": [
    "y_train"
   ]
  },
  {
   "cell_type": "code",
   "execution_count": 44,
   "metadata": {},
   "outputs": [
    {
     "data": {
      "text/plain": [
       "0        0\n",
       "1        0\n",
       "2        1\n",
       "3        1\n",
       "4        0\n",
       "        ..\n",
       "11461    0\n",
       "11462    1\n",
       "11463    1\n",
       "11464    1\n",
       "11465    0\n",
       "Name: negative_self, Length: 11466, dtype: int32"
      ]
     },
     "execution_count": 44,
     "metadata": {},
     "output_type": "execute_result"
    }
   ],
   "source": [
    "TrainMiddle['negative_self']"
   ]
  },
  {
   "cell_type": "code",
   "execution_count": 78,
   "metadata": {},
   "outputs": [
    {
     "name": "stdout",
     "output_type": "stream",
     "text": [
      "Train on 11466 samples\n",
      "Epoch 1/7\n",
      "11466/11466 [==============================] - 99s 9ms/sample - loss: 0.3677 - accuracy: 0.8461\n",
      "Epoch 2/7\n",
      "11466/11466 [==============================] - 97s 8ms/sample - loss: 0.2529 - accuracy: 0.8903\n",
      "Epoch 3/7\n",
      "11466/11466 [==============================] - 99s 9ms/sample - loss: 0.2176 - accuracy: 0.8943\n",
      "Epoch 4/7\n",
      "11466/11466 [==============================] - 97s 8ms/sample - loss: 0.1965 - accuracy: 0.8965\n",
      "Epoch 5/7\n",
      "11466/11466 [==============================] - 96s 8ms/sample - loss: 0.1845 - accuracy: 0.9028\n",
      "Epoch 6/7\n",
      "11466/11466 [==============================] - 97s 8ms/sample - loss: 0.1787 - accuracy: 0.9017\n",
      "Epoch 7/7\n",
      "11466/11466 [==============================] - 96s 8ms/sample - loss: 0.1791 - accuracy: 0.9043\n"
     ]
    },
    {
     "data": {
      "text/plain": [
       "<tensorflow.python.keras.callbacks.History at 0x1fd6a91ffd0>"
      ]
     },
     "execution_count": 78,
     "metadata": {},
     "output_type": "execute_result"
    }
   ],
   "source": [
    "# 模型训练\n",
    "model.fit(x_train,y_train,batch_size=32,epochs=7)"
   ]
  },
  {
   "cell_type": "code",
   "execution_count": 79,
   "metadata": {},
   "outputs": [
    {
     "data": {
      "text/plain": [
       "[0.1636063926988885, 0.9134833]"
      ]
     },
     "execution_count": 79,
     "metadata": {},
     "output_type": "execute_result"
    }
   ],
   "source": [
    "model.evaluate(x=x_test,y=y_test,verbose=0)"
   ]
  },
  {
   "cell_type": "code",
   "execution_count": 50,
   "metadata": {},
   "outputs": [
    {
     "data": {
      "image/png": "[encoded data removed]",
      "text/plain": [
       "<Figure size 432x288 with 1 Axes>"
      ]
     },
     "metadata": {
      "needs_background": "light"
     },
     "output_type": "display_data"
    }
   ],
   "source": [
    "import matplotlib.pyplot as plt\n",
    "history = model.history\n",
    "plt.plot(history.history['loss'])\n",
    "plt.title(\"model accuracy\")\n",
    "plt.ylabel(\"Accuracy\")\n",
    "plt.xlabel(\"epoch\")\n",
    "plt.show()"
   ]
  },
  {
   "cell_type": "code",
   "execution_count": 54,
   "metadata": {},
   "outputs": [],
   "source": [
    "def predict_data(new_comment):\n",
    "    words = list(jieba.cut(new_comment))\n",
    "    w2v = [word_dict['id'][x] for x in words]\n",
    "    xn = sequence.pad_sequences([w2v],maxlen=50)\n",
    "    return xn\n",
    "\n",
    "# xn = predict_data(a)\n",
    "# model.predict_classes(a,verbose=0)"
   ]
  },
  {
   "cell_type": "code",
   "execution_count": 57,
   "metadata": {},
   "outputs": [],
   "source": [
    "x=model.predict_classes(x_test,verbose=0)"
   ]
  },
  {
   "cell_type": "code",
   "execution_count": 62,
   "metadata": {},
   "outputs": [],
   "source": [
    "TestMiddle['negative']=x"
   ]
  },
  {
   "cell_type": "code",
   "execution_count": 63,
   "metadata": {},
   "outputs": [],
   "source": [
    "submit = pd.read_csv('data/Submit_Example.csv')"
   ]
  },
  {
   "cell_type": "code",
   "execution_count": 64,
   "metadata": {},
   "outputs": [],
   "source": [
    "k=0\n",
    "for i in range(len(submit['id'])):\n",
    "    if(k>=11580):\n",
    "        break\n",
    "    x=''\n",
    "    while(str(TestMiddle['id'][k])==str(submit['id'][i])):\n",
    "        \n",
    "        if(str(TestMiddle['negative'][k])=='1'):\n",
    "            submit.loc[i,'negative']=1;\n",
    "            x=x+str(TestMiddle['entity'][k])+';'\n",
    "        k=k+1\n",
    "        if(k>=11580):\n",
    "            break\n",
    "    submit.loc[i,'key_entity']=x"
   ]
  },
  {
   "cell_type": "code",
   "execution_count": 68,
   "metadata": {},
   "outputs": [],
   "source": [
    "submit=submit.fillna('')"
   ]
  },
  {
   "cell_type": "code",
   "execution_count": 69,
   "metadata": {},
   "outputs": [],
   "source": [
    "submit.to_csv('submit_lstm.csv',encoding=\"utf_8_sig\",index=None)"
   ]
  },
  {
   "cell_type": "code",
   "execution_count": 70,
   "metadata": {},
   "outputs": [
    {
     "data": {
      "text/html": [
       "<div>\n",
       "<style scoped>\n",
       "    .dataframe tbody tr th:only-of-type {\n",
       "        vertical-align: middle;\n",
       "    }\n",
       "\n",
       "    .dataframe tbody tr th {\n",
       "        vertical-align: top;\n",
       "    }\n",
       "\n",
       "    .dataframe thead th {\n",
       "        text-align: right;\n",
       "    }\n",
       "</style>\n",
       "<table border=\"1\" class=\"dataframe\">\n",
       "  <thead>\n",
       "    <tr style=\"text-align: right;\">\n",
       "      <th></th>\n",
       "      <th>id</th>\n",
       "      <th>negative</th>\n",
       "      <th>key_entity</th>\n",
       "    </tr>\n",
       "  </thead>\n",
       "  <tbody>\n",
       "    <tr>\n",
       "      <th>0</th>\n",
       "      <td>f3b61b38</td>\n",
       "      <td>1</td>\n",
       "      <td>小资钱包;资易贷;</td>\n",
       "    </tr>\n",
       "    <tr>\n",
       "      <th>1</th>\n",
       "      <td>84b12bae</td>\n",
       "      <td>0</td>\n",
       "      <td></td>\n",
       "    </tr>\n",
       "    <tr>\n",
       "      <th>2</th>\n",
       "      <td>6abf4a82</td>\n",
       "      <td>0</td>\n",
       "      <td></td>\n",
       "    </tr>\n",
       "    <tr>\n",
       "      <th>3</th>\n",
       "      <td>8d076785</td>\n",
       "      <td>1</td>\n",
       "      <td>易捷金融;宜贷网;</td>\n",
       "    </tr>\n",
       "    <tr>\n",
       "      <th>4</th>\n",
       "      <td>d65a1577</td>\n",
       "      <td>1</td>\n",
       "      <td>贵金属;</td>\n",
       "    </tr>\n",
       "    <tr>\n",
       "      <th>...</th>\n",
       "      <td>...</td>\n",
       "      <td>...</td>\n",
       "      <td>...</td>\n",
       "    </tr>\n",
       "    <tr>\n",
       "      <th>4995</th>\n",
       "      <td>cf4782db</td>\n",
       "      <td>0</td>\n",
       "      <td></td>\n",
       "    </tr>\n",
       "    <tr>\n",
       "      <th>4996</th>\n",
       "      <td>36895a84</td>\n",
       "      <td>0</td>\n",
       "      <td></td>\n",
       "    </tr>\n",
       "    <tr>\n",
       "      <th>4997</th>\n",
       "      <td>46e3ae0b</td>\n",
       "      <td>0</td>\n",
       "      <td></td>\n",
       "    </tr>\n",
       "    <tr>\n",
       "      <th>4998</th>\n",
       "      <td>31e49e9d</td>\n",
       "      <td>0</td>\n",
       "      <td></td>\n",
       "    </tr>\n",
       "    <tr>\n",
       "      <th>4999</th>\n",
       "      <td>77bc7d45</td>\n",
       "      <td>0</td>\n",
       "      <td></td>\n",
       "    </tr>\n",
       "  </tbody>\n",
       "</table>\n",
       "<p>5000 rows × 3 columns</p>\n",
       "</div>"
      ],
      "text/plain": [
       "            id  negative key_entity\n",
       "0     f3b61b38         1  小资钱包;资易贷;\n",
       "1     84b12bae         0           \n",
       "2     6abf4a82         0           \n",
       "3     8d076785         1  易捷金融;宜贷网;\n",
       "4     d65a1577         1       贵金属;\n",
       "...        ...       ...        ...\n",
       "4995  cf4782db         0           \n",
       "4996  36895a84         0           \n",
       "4997  46e3ae0b         0           \n",
       "4998  31e49e9d         0           \n",
       "4999  77bc7d45         0           \n",
       "\n",
       "[5000 rows x 3 columns]"
      ]
     },
     "execution_count": 70,
     "metadata": {},
     "output_type": "execute_result"
    }
   ],
   "source": [
    "submit"
   ]
  },
  {
   "cell_type": "code",
   "execution_count": null,
   "metadata": {},
   "outputs": [],
   "source": []
  }
 ],
 "metadata": {
  "kernelspec": {
   "display_name": "Python 3",
   "language": "python",
   "name": "python3"
  },
  "language_info": {
   "codemirror_mode": {
    "name": "ipython",
    "version": 3
   },
   "file_extension": ".py",
   "mimetype": "text/x-python",
   "name": "python",
   "nbconvert_exporter": "python",
   "pygments_lexer": "ipython3",
   "version": "3.6.9"
  }
 },
 "nbformat": 4,
 "nbformat_minor": 2
}
